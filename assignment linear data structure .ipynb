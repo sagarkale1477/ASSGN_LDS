{
 "cells": [
  {
   "cell_type": "code",
   "execution_count": null,
   "id": "579e79f1",
   "metadata": {},
   "outputs": [],
   "source": [
    "# Q1.Write a program to find all pairs of an integer array whose sum is equal to a given number?"
   ]
  },
  {
   "cell_type": "code",
   "execution_count": 15,
   "id": "42041b7c",
   "metadata": {},
   "outputs": [
    {
     "ename": "NameError",
     "evalue": "name 'sums' is not defined",
     "output_type": "error",
     "traceback": [
      "\u001b[1;31m---------------------------------------------------------------------------\u001b[0m",
      "\u001b[1;31mNameError\u001b[0m                                 Traceback (most recent call last)",
      "Input \u001b[1;32mIn [15]\u001b[0m, in \u001b[0;36m<cell line: 11>\u001b[1;34m()\u001b[0m\n\u001b[0;32m      9\u001b[0m     \u001b[38;5;28mprint\u001b[39m(\u001b[38;5;124m\"\u001b[39m\u001b[38;5;124mPairs count = \u001b[39m\u001b[38;5;124m\"\u001b[39m, pairs_count)\n\u001b[0;32m     10\u001b[0m arr \u001b[38;5;241m=\u001b[39m [\u001b[38;5;241m0\u001b[39m, \u001b[38;5;241m2\u001b[39m, \u001b[38;5;241m1\u001b[39m, \u001b[38;5;241m4\u001b[39m, \u001b[38;5;241m5\u001b[39m ,\u001b[38;5;241m7\u001b[39m ,\u001b[38;5;241m-\u001b[39m\u001b[38;5;241m2\u001b[39m, \u001b[38;5;241m8\u001b[39m, \u001b[38;5;241m4\u001b[39m]\n\u001b[1;32m---> 11\u001b[0m find_pairs(arr, n, \u001b[43msums\u001b[49m)\n",
      "\u001b[1;31mNameError\u001b[0m: name 'sums' is not defined"
     ]
    }
   ],
   "source": [
    "def find_pairs(arr, n, sums):     ####cant figerout error already sums variable is defined\n",
    "    n = len(arr)\n",
    "    sums = 6\n",
    "    pairs_count = 0\n",
    "    for i in range(0, n):\n",
    "        for j in range(i+1, n):\n",
    "            if arr[i] + arr[j] == sums:\n",
    "                pairs_count += 1\n",
    "    print(\"Pairs count = \", pairs_count)\n",
    "arr = [0, 2, 1, 4, 5 ,7 ,-2, 8, 4]\n",
    "find_pairs(arr, n, sums)"
   ]
  },
  {
   "cell_type": "code",
   "execution_count": null,
   "id": "0e4fedd6",
   "metadata": {},
   "outputs": [],
   "source": [
    "#Q2. Write a program to reverse an array in place? In place means you cannot create a new array. You have to update the original array.\n"
   ]
  },
  {
   "cell_type": "code",
   "execution_count": 10,
   "id": "7aea789b",
   "metadata": {},
   "outputs": [
    {
     "name": "stdout",
     "output_type": "stream",
     "text": [
      "[0, 1, 2, 3]\n",
      "Reversed array is\n",
      "[3, 2, 1, 0]\n"
     ]
    }
   ],
   "source": [
    "arr = [0, 1, 2, 3]\n",
    "print(arr)\n",
    "arr = arr[::-1]\n",
    "print(\"Reversed array is\")\n",
    "print(arr)"
   ]
  },
  {
   "cell_type": "code",
   "execution_count": null,
   "id": "0fcd5f4e",
   "metadata": {},
   "outputs": [],
   "source": [
    "def reverse_arr(arr):\n",
    "    arr = reversed(arr)\n",
    "    return list(arr)\n",
    "arr = [11,12,11,144,35,65,11]"
   ]
  },
  {
   "cell_type": "code",
   "execution_count": 14,
   "id": "924a66cd",
   "metadata": {},
   "outputs": [
    {
     "data": {
      "text/plain": [
       "[11, 65, 35, 144, 11, 12, 11]"
      ]
     },
     "execution_count": 14,
     "metadata": {},
     "output_type": "execute_result"
    }
   ],
   "source": [
    "reverse_arr(arr)"
   ]
  },
  {
   "cell_type": "code",
   "execution_count": null,
   "id": "119155d6",
   "metadata": {},
   "outputs": [],
   "source": [
    "# Q3. Write a program to check if two strings are a rotation of each other?"
   ]
  },
  {
   "cell_type": "code",
   "execution_count": 9,
   "id": "d51238c3",
   "metadata": {},
   "outputs": [
    {
     "name": "stdout",
     "output_type": "stream",
     "text": [
      "sagar\n",
      "agars\n",
      "True\n"
     ]
    }
   ],
   "source": [
    "def rotation_check(s1, s2):\n",
    "    if len(s1) == len(s2):\n",
    "        temp = s1 + s1\n",
    "        if temp.count(s2) > 0:\n",
    "            return 1\n",
    "    else:\n",
    "        return 0\n",
    "s1 = input()\n",
    "s2 = input()\n",
    "if rotation_check(s1, s2):\n",
    "    print(\"True\")\n",
    "else:\n",
    "    print(\"False\")"
   ]
  },
  {
   "cell_type": "code",
   "execution_count": null,
   "id": "afc9ff3f",
   "metadata": {},
   "outputs": [],
   "source": [
    "# Q4. Write a program to print the first non-repeated character from a string?"
   ]
  },
  {
   "cell_type": "code",
   "execution_count": 7,
   "id": "1f849d97",
   "metadata": {},
   "outputs": [
    {
     "name": "stdout",
     "output_type": "stream",
     "text": [
      "my mom is my love\n"
     ]
    },
    {
     "data": {
      "text/plain": [
       "'i'"
      ]
     },
     "execution_count": 7,
     "metadata": {},
     "output_type": "execute_result"
    }
   ],
   "source": [
    "def non_repeated(str1):\n",
    "    for i in str1:\n",
    "        count = str1.count(i)\n",
    "        if count == 1:\n",
    "            return i\n",
    "            break\n",
    "str1 = input()\n",
    "non_repeated(str1)"
   ]
  },
  {
   "cell_type": "code",
   "execution_count": null,
   "id": "acd7cfe7",
   "metadata": {},
   "outputs": [],
   "source": [
    "# Q5. Read about the Tower of Hanoi algorithm. Write a program to implement it."
   ]
  },
  {
   "cell_type": "code",
   "execution_count": 1,
   "id": "14d983db",
   "metadata": {},
   "outputs": [
    {
     "name": "stdout",
     "output_type": "stream",
     "text": [
      "6\n",
      "Move disk 1 from rod A to rod B\n",
      "Move disk 2 from rod A to rod C\n",
      "Move disk 1 from rod B to rod C\n",
      "Move disk 3 from rod A to rod B\n",
      "Move disk 1 from rod C to rod A\n",
      "Move disk 2 from rod C to rod B\n",
      "Move disk 1 from rod A to rod B\n",
      "Move disk 4 from rod A to rod C\n",
      "Move disk 1 from rod B to rod C\n",
      "Move disk 2 from rod B to rod A\n",
      "Move disk 1 from rod C to rod A\n",
      "Move disk 3 from rod B to rod C\n",
      "Move disk 1 from rod A to rod B\n",
      "Move disk 2 from rod A to rod C\n",
      "Move disk 1 from rod B to rod C\n",
      "Move disk 5 from rod A to rod B\n",
      "Move disk 1 from rod C to rod A\n",
      "Move disk 2 from rod C to rod B\n",
      "Move disk 1 from rod A to rod B\n",
      "Move disk 3 from rod C to rod A\n",
      "Move disk 1 from rod B to rod C\n",
      "Move disk 2 from rod B to rod A\n",
      "Move disk 1 from rod C to rod A\n",
      "Move disk 4 from rod C to rod B\n",
      "Move disk 1 from rod A to rod B\n",
      "Move disk 2 from rod A to rod C\n",
      "Move disk 1 from rod B to rod C\n",
      "Move disk 3 from rod A to rod B\n",
      "Move disk 1 from rod C to rod A\n",
      "Move disk 2 from rod C to rod B\n",
      "Move disk 1 from rod A to rod B\n",
      "Move disk 6 from rod A to rod C\n",
      "Move disk 1 from rod B to rod C\n",
      "Move disk 2 from rod B to rod A\n",
      "Move disk 1 from rod C to rod A\n",
      "Move disk 3 from rod B to rod C\n",
      "Move disk 1 from rod A to rod B\n",
      "Move disk 2 from rod A to rod C\n",
      "Move disk 1 from rod B to rod C\n",
      "Move disk 4 from rod B to rod A\n",
      "Move disk 1 from rod C to rod A\n",
      "Move disk 2 from rod C to rod B\n",
      "Move disk 1 from rod A to rod B\n",
      "Move disk 3 from rod C to rod A\n",
      "Move disk 1 from rod B to rod C\n",
      "Move disk 2 from rod B to rod A\n",
      "Move disk 1 from rod C to rod A\n",
      "Move disk 5 from rod B to rod C\n",
      "Move disk 1 from rod A to rod B\n",
      "Move disk 2 from rod A to rod C\n",
      "Move disk 1 from rod B to rod C\n",
      "Move disk 3 from rod A to rod B\n",
      "Move disk 1 from rod C to rod A\n",
      "Move disk 2 from rod C to rod B\n",
      "Move disk 1 from rod A to rod B\n",
      "Move disk 4 from rod A to rod C\n",
      "Move disk 1 from rod B to rod C\n",
      "Move disk 2 from rod B to rod A\n",
      "Move disk 1 from rod C to rod A\n",
      "Move disk 3 from rod B to rod C\n",
      "Move disk 1 from rod A to rod B\n",
      "Move disk 2 from rod A to rod C\n",
      "Move disk 1 from rod B to rod C\n"
     ]
    }
   ],
   "source": [
    "def myfunc(n, A, C, B):\n",
    "    if n == 0:\n",
    "        return\n",
    "    myfunc(n-1, A, B, C)\n",
    "    print(\"Move disk\", n, \"from rod\", A, \"to rod\", C)\n",
    "    myfunc(n-1, B, C, A)\n",
    "\n",
    "n = int(input())\n",
    "myfunc(n, 'A', 'C', 'B')"
   ]
  },
  {
   "cell_type": "code",
   "execution_count": null,
   "id": "327b1e34",
   "metadata": {},
   "outputs": [],
   "source": [
    "# Q6. Read about infix, prefix, and postfix expressions. Write a program to convert postfix to prefix expression."
   ]
  },
  {
   "cell_type": "code",
   "execution_count": 2,
   "id": "db9a9f20",
   "metadata": {},
   "outputs": [
    {
     "name": "stdout",
     "output_type": "stream",
     "text": [
      "ab+cd\n",
      "Prefix :  +abcd\n"
     ]
    }
   ],
   "source": [
    "def is_operator(n):\n",
    "    if n == \"+\":\n",
    "        return True\n",
    "    if n == \"-\":\n",
    "        return True\n",
    "    if n == \"/\":\n",
    "        return True\n",
    "    if n == \"*\":\n",
    "        return True\n",
    "    return False\n",
    "\n",
    "def post_pre(x):\n",
    "    s = []\n",
    "    length = len(x)\n",
    "    for i in range(length):\n",
    "        if (is_operator(x[i])):\n",
    "            op1 = s[-1]\n",
    "            s.pop()\n",
    "            op2 = s[-1]\n",
    "            s.pop()\n",
    "            temp = x[i] + op2 + op1\n",
    "            s.append(temp)\n",
    "        else:\n",
    "             s.append(x[i])\n",
    "    ans = \"\"\n",
    "    for i in s:\n",
    "        ans += i\n",
    "    return ans\n",
    "\n",
    "x = input()\n",
    "print(\"Prefix : \", post_pre(x))"
   ]
  },
  {
   "cell_type": "code",
   "execution_count": null,
   "id": "b1518918",
   "metadata": {},
   "outputs": [],
   "source": [
    "# Q7. Write a program to convert prefix expression to infix expression."
   ]
  },
  {
   "cell_type": "code",
   "execution_count": 3,
   "id": "5e62430d",
   "metadata": {},
   "outputs": [
    {
     "name": "stdout",
     "output_type": "stream",
     "text": [
      "((A-(B/C))*((A/K)-L))\n"
     ]
    }
   ],
   "source": [
    "def prefixToInfix(prefix):\n",
    "    stack = []\n",
    "    i = len(prefix) - 1\n",
    "    while i >= 0:\n",
    "        if not isOperator(prefix[i]):\n",
    "\n",
    "            stack.append(prefix[i])\n",
    "            i -= 1\n",
    "        else:\n",
    "            str = \"(\" + stack.pop() + prefix[i] + stack.pop() + \")\"\n",
    "            stack.append(str)\n",
    "            i -= 1\n",
    "    return stack.pop()\n",
    "\n",
    "def isOperator(c):\n",
    "    if c == \"*\" or c == \"+\" or c == \"-\" or c == \"/\" or c == \"^\" or c == \"(\" or c == \")\":\n",
    "        return True\n",
    "    else:\n",
    "        return False\n",
    "\n",
    "str = \"*-A/BC-/AKL\"\n",
    "print(prefixToInfix(str))"
   ]
  },
  {
   "cell_type": "code",
   "execution_count": null,
   "id": "9aca1944",
   "metadata": {},
   "outputs": [],
   "source": [
    "# Q8. Write a program to check if all the brackets are closed in a given code snippet."
   ]
  },
  {
   "cell_type": "code",
   "execution_count": 4,
   "id": "2b646c63",
   "metadata": {},
   "outputs": [
    {
     "name": "stdout",
     "output_type": "stream",
     "text": [
      "Not Balanced bracket\n"
     ]
    }
   ],
   "source": [
    "def brackets_check(x):\n",
    "    var = []\n",
    "    for i in x:\n",
    "        if i in [\"(\", \"{\", \"[\"]:\n",
    "            var.append(i)\n",
    "        else:\n",
    "            if not var:\n",
    "                return False\n",
    "            temp_char = var.pop()\n",
    "            if temp_char == '(':\n",
    "                if i != \")\":\n",
    "                    return False\n",
    "            if temp_char == '{':\n",
    "                if i != \"}\":\n",
    "                    return False\n",
    "            if temp_char == '[':\n",
    "                if i != \"]\":\n",
    "                    return False\n",
    "    if var:\n",
    "        return False\n",
    "    return True\n",
    "\n",
    "x = \"{()}[(]\"\n",
    "    \n",
    "if brackets_check(x):\n",
    "    print(\"Balanced bracket\")\n",
    "else:\n",
    "    print(\"Not Balanced bracket\")"
   ]
  },
  {
   "cell_type": "code",
   "execution_count": null,
   "id": "d41f8904",
   "metadata": {},
   "outputs": [],
   "source": [
    "# Q9. Write a program to reverse a stack."
   ]
  },
  {
   "cell_type": "code",
   "execution_count": 5,
   "id": "fc0d330f",
   "metadata": {},
   "outputs": [
    {
     "name": "stdout",
     "output_type": "stream",
     "text": [
      "Original Stack 20 30 40 45 50 50 60\n",
      "Reversed Stack 60 50 50 45 40 30 20\n"
     ]
    }
   ],
   "source": [
    "def reverse_stack(stack):\n",
    "    stack = reversed(stack)\n",
    "    return list(stack)\n",
    "stack = [20,30,40,45,50,50,60]\n",
    "\n",
    "print(\"Original Stack\", *stack, sep=' ')\n",
    "print(\"Reversed Stack\", *reverse_stack(stack), sep=\" \")"
   ]
  },
  {
   "cell_type": "code",
   "execution_count": null,
   "id": "3af8e521",
   "metadata": {},
   "outputs": [],
   "source": [
    "#Q10. Write a program to find the smallest number using a stack."
   ]
  },
  {
   "cell_type": "code",
   "execution_count": 6,
   "id": "5b040ec6",
   "metadata": {},
   "outputs": [
    {
     "data": {
      "text/plain": [
       "5"
      ]
     },
     "execution_count": 6,
     "metadata": {},
     "output_type": "execute_result"
    }
   ],
   "source": [
    "def min_value(stack):\n",
    "    x=sorted(stack)\n",
    "    return x[0]\n",
    "stack1 = [45,67,22,45,60,5,785,90]\n",
    "min(*stack1) "
   ]
  }
 ],
 "metadata": {
  "kernelspec": {
   "display_name": "Python 3 (ipykernel)",
   "language": "python",
   "name": "python3"
  },
  "language_info": {
   "codemirror_mode": {
    "name": "ipython",
    "version": 3
   },
   "file_extension": ".py",
   "mimetype": "text/x-python",
   "name": "python",
   "nbconvert_exporter": "python",
   "pygments_lexer": "ipython3",
   "version": "3.10.4"
  }
 },
 "nbformat": 4,
 "nbformat_minor": 5
}
